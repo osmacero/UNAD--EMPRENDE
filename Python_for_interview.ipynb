{
  "nbformat": 4,
  "nbformat_minor": 0,
  "metadata": {
    "colab": {
      "provenance": [],
      "authorship_tag": "ABX9TyOrncBRa37qdQqGPJlzAOUg",
      "include_colab_link": true
    },
    "kernelspec": {
      "name": "python3",
      "display_name": "Python 3"
    },
    "language_info": {
      "name": "python"
    }
  },
  "cells": [
    {
      "cell_type": "markdown",
      "metadata": {
        "id": "view-in-github",
        "colab_type": "text"
      },
      "source": [
        "<a href=\"https://colab.research.google.com/github/osmacero/UNAD--EMPRENDE/blob/main/Python_for_interview.ipynb\" target=\"_parent\"><img src=\"https://colab.research.google.com/assets/colab-badge.svg\" alt=\"Open In Colab\"/></a>"
      ]
    },
    {
      "cell_type": "code",
      "execution_count": 7,
      "metadata": {
        "colab": {
          "base_uri": "https://localhost:8080/"
        },
        "id": "ZaunyLZ48X51",
        "outputId": "401a793c-1fef-4d9e-b606-adae7b9d9004"
      },
      "outputs": [
        {
          "output_type": "stream",
          "name": "stdout",
          "text": [
            "3.12.11 (main, Jun  4 2025, 08:56:18) [GCC 11.4.0]\n",
            "hello, World!\n",
            "five is greater than two!\n",
            "hello world!\n",
            "cheers mate!\n"
          ]
        }
      ],
      "source": [
        "import sys\n",
        "print(sys.version)\n",
        "print(\"hello, World!\")\n",
        "if 5 > 2:\n",
        "  print(\"five is greater than two!\")\n",
        "#this is a comment\n",
        "print(\"hello world!\")\n",
        "print(\"cheers mate!\")"
      ]
    }
  ]
}